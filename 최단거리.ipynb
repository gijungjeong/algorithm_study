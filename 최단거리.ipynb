{
 "cells": [
  {
   "cell_type": "code",
   "execution_count": 1,
   "metadata": {},
   "outputs": [
    {
     "name": "stdout",
     "output_type": "stream",
     "text": [
      "0\n",
      "2\n",
      "3\n",
      "1\n",
      "2\n",
      "4\n"
     ]
    }
   ],
   "source": [
    "import sys\n",
    "\n",
    "\n",
    "INF = int(1e9)\n",
    "\n",
    "n,m = map(int,input().split())\n",
    "\n",
    "start = int(input())\n",
    "\n",
    "graph = [[] for i in range(n+1)]\n",
    "visted = [False]*(n+1)\n",
    "\n",
    "distance = [INF]*(n+1)\n",
    "\n",
    "for _ in range(m):\n",
    "    a,b,c = map(int,input().split())\n",
    "    graph[a].append((b,c))\n",
    "\n",
    "    def get_smallest_node():\n",
    "        min_value=INF\n",
    "        index = 0\n",
    "        for i in range(1,n+1):\n",
    "            if distance[i] < min_value and not visted[i]:\n",
    "                min_value = distance[i]\n",
    "                index = i\n",
    "        return index\n",
    "    \n",
    "    def dijkstra(start):\n",
    "        distance[start]=0\n",
    "        visted[start] = True\n",
    "\n",
    "        for j in graph[start]:\n",
    "            distance[j[0]]=j[1]\n",
    "\n",
    "        for i in range(n-1):\n",
    "            now = get_smallest_node()\n",
    "            visted[now]=True\n",
    "\n",
    "            for j in graph[now]:\n",
    "                cost = distance[now] + j[1]\n",
    "\n",
    "                if cost < distance[j[0]]:\n",
    "                    distance[j[0]] = cost\n",
    "\n",
    "dijkstra(start)\n",
    "\n",
    "for i in range(1, n+1):\n",
    "    if distance == INF:\n",
    "        print(\"INFINITY\")\n",
    "\n",
    "    else :\n",
    "        print(distance[i])\n",
    "        \n"
   ]
  }
 ],
 "metadata": {
  "kernelspec": {
   "display_name": "Python 3",
   "language": "python",
   "name": "python3"
  },
  "language_info": {
   "codemirror_mode": {
    "name": "ipython",
    "version": 3
   },
   "file_extension": ".py",
   "mimetype": "text/x-python",
   "name": "python",
   "nbconvert_exporter": "python",
   "pygments_lexer": "ipython3",
   "version": "3.10.2"
  }
 },
 "nbformat": 4,
 "nbformat_minor": 2
}
