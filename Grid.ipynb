{
 "cells": [
  {
   "attachments": {},
   "cell_type": "markdown",
   "metadata": {},
   "source": [
    "# 그리드\n",
    "### 현재 상황에서 지금 당장 좋은 것만 고르는 방법"
   ]
  },
  {
   "attachments": {},
   "cell_type": "markdown",
   "metadata": {},
   "source": [
    "##### 예제 3-1 거스름돈\n",
    "##### 당신은 음식점의 계산을 도와주는 점원이다. 카운터에는 거스름돈으로 사용할 500원, 100원, 50원, 10원짜리 동전이 무한ㄹ히 존재한다고 가정한다. 손님에게 거슬러 줘야 할 돈이 N원일 때 거슬러 줘야 할 동전의 최소 개수를 구하라. 단, 거술러 줘야할 돈 N은 항상 10의 배수이다."
   ]
  },
  {
   "cell_type": "code",
   "execution_count": 9,
   "metadata": {},
   "outputs": [
    {
     "name": "stdout",
     "output_type": "stream",
     "text": [
      "거스름돈 총액 : 1450원\n",
      "500 : 2개\n",
      "100 : 6개\n",
      "50 : 7개\n",
      "10 : 7개\n",
      "총 개수 : 22개\n"
     ]
    }
   ],
   "source": [
    "n = int(input(\"필요한 거스름돈 금액을 적으시오: \"))\n",
    "count = 0\n",
    "tmp = 0\n",
    "\n",
    "coin_type = [500, 100, 50, 10]\n",
    "print(f\"거스름돈 총액 : {n}원\")\n",
    "for coin in coin_type :\n",
    "    tmp += n // coin\n",
    "    count += tmp\n",
    "    n %= coin\n",
    "    print(f\"{coin} : {tmp}개\")\n",
    "\n",
    "print(f\"총 개수 : {count}개\")"
   ]
  },
  {
   "attachments": {},
   "cell_type": "markdown",
   "metadata": {},
   "source": [
    "### 실전문제 3-2 큰수의 법칙\n",
    "입력조건\n",
    "- 첫째 줄에 N(2<= N <= 1,000), M(1<= M <= 10,000), K(1<= N <= 10,000)의 자연수가 주어지며, 각 자연수는 공백으로 구분한다.\n",
    "- 둘째 줄에 N개의 자연수가 주어진다. 각 자연수는 공백으로 구분한다. 단, 각 자연수는 1이상 10,000 이하의 수로 주어진다.\n",
    "- 입력으로 주어지는 K는 항상 M보다 작거나 같다.\n",
    "\n",
    "출력 조건\n",
    "- 첫째 줄에 동빈이의 큰 수의 법칙에 따라 더해진 답을 출력한다"
   ]
  },
  {
   "cell_type": "code",
   "execution_count": 11,
   "metadata": {},
   "outputs": [
    {
     "name": "stdout",
     "output_type": "stream",
     "text": [
      "46\n"
     ]
    }
   ],
   "source": [
    "# N, M, K를 공백으로 구분하여 입력 받기\n",
    "n, m, k = map(int, input().split())\n",
    "# N개의 수를 공백으로 구분하여 입력받기\n",
    "data = list(map(int, input().split()))\n",
    "\n",
    "data.sort() # 입력받은 수들 정렬하기\n",
    "first = data[n-1]\n",
    "second = data[n-2]\n",
    "\n",
    "result = 0\n",
    "\n",
    "while True:\n",
    "    for i in range(k) :\n",
    "        if m == 0:\n",
    "            break\n",
    "        result += first\n",
    "        m -= 1\n",
    "    if m==0:\n",
    "        break\n",
    "    result += second\n",
    "    m -= 1\n",
    "\n",
    "print(result)"
   ]
  },
  {
   "attachments": {},
   "cell_type": "markdown",
   "metadata": {},
   "source": [
    "### 실전문제 3-3 숫자 카드 게임\n",
    "입력조건\n",
    "- 첫째 줄에 숫자 카드들이 놓이 행의 개수 N과 열의 개수 M이 공백을 기준으로 하여 각각 자연수로 주어진다.(1<= N,M <= 100)\n",
    "- 둘째 줄부터 N개의 줄에 걸쳐 각 카드에 적힌 숫자가 주어진다. 각 숫자는 1 이상 10,000 이하의 자연수이다.\n",
    "\n",
    "출력 조건\n",
    "- 첫째 줄에 게임의 룰에 맞게 선택한 카드에 적힌 숫자를 출력한다."
   ]
  },
  {
   "cell_type": "code",
   "execution_count": 16,
   "metadata": {},
   "outputs": [
    {
     "name": "stdout",
     "output_type": "stream",
     "text": [
      "2\n"
     ]
    }
   ],
   "source": [
    "n, m = map(int, input().split())\n",
    "\n",
    "result = 0\n",
    "\n",
    "for i in range(n):\n",
    "    data = list(map(int, input().split()))\n",
    "    min_value = 10001\n",
    "    for a in data:\n",
    "        min_value = min(min_value, a)\n",
    "    result = max(result, min_value)\n",
    "\n",
    "print(result)\n"
   ]
  },
  {
   "cell_type": "code",
   "execution_count": 17,
   "metadata": {},
   "outputs": [
    {
     "name": "stdout",
     "output_type": "stream",
     "text": [
      "2\n"
     ]
    }
   ],
   "source": [
    "n, m = map(int, input().split())\n",
    "\n",
    "result = 0\n",
    "\n",
    "for i in range(n):\n",
    "    data = list(map(int, input().split()))\n",
    "    min_value = min(data)\n",
    "    result = max(result, min_value)\n",
    "\n",
    "print(result)"
   ]
  },
  {
   "attachments": {},
   "cell_type": "markdown",
   "metadata": {},
   "source": [
    "### 실전문제 3-4 1이 될 때까지\n",
    "\n",
    "입력조건\n",
    "- 첫째 줄에 N(2<= N,M <= 100,000)과 K(2<= K <= 100,000)가 공백으로 구분되며 각각 자연수로 주어진다. 이때 입력으로 주어지는 N은 항상 K보다 크거나 같다.\n",
    "\n",
    "출력조건\n",
    "- 첫째 줄에 N이 1이 될 때까지 1번 혹은 2번의 과정을 수행해야 하는 횟수의 최솟값을 출력한다."
   ]
  },
  {
   "cell_type": "code",
   "execution_count": 20,
   "metadata": {},
   "outputs": [
    {
     "name": "stdout",
     "output_type": "stream",
     "text": [
      "6\n"
     ]
    }
   ],
   "source": [
    "n, k = map(int, input().split())\n",
    "\n",
    "result = 0\n",
    "\n",
    "while True :\n",
    "    if n == 1 :\n",
    "        break\n",
    "    if n%k == 0 :\n",
    "        n /= k\n",
    "    else :\n",
    "        n -= 1\n",
    "    result += 1\n",
    "\n",
    "print(result)"
   ]
  },
  {
   "cell_type": "code",
   "execution_count": null,
   "metadata": {},
   "outputs": [],
   "source": []
  }
 ],
 "metadata": {
  "kernelspec": {
   "display_name": "base",
   "language": "python",
   "name": "python3"
  },
  "language_info": {
   "codemirror_mode": {
    "name": "ipython",
    "version": 3
   },
   "file_extension": ".py",
   "mimetype": "text/x-python",
   "name": "python",
   "nbconvert_exporter": "python",
   "pygments_lexer": "ipython3",
   "version": "3.10.2"
  },
  "orig_nbformat": 4
 },
 "nbformat": 4,
 "nbformat_minor": 2
}
