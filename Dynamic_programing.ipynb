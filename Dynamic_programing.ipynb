{
 "cells": [
  {
   "cell_type": "code",
   "execution_count": 5,
   "metadata": {},
   "outputs": [
    {
     "name": "stdout",
     "output_type": "stream",
     "text": [
      "13.0 1\n",
      "12.0 2\n",
      "4.0 3\n",
      "2.0 4\n",
      "1.0 5\n"
     ]
    }
   ],
   "source": [
    "#1로 만들기\n",
    "\n",
    "x = int(input())\n",
    "cnt =0\n",
    "while x >1:\n",
    "    if x%5 == 0:\n",
    "        x/=5\n",
    "    elif x%3 == 0:\n",
    "        x/=3\n",
    "    elif x%2 == 0:\n",
    "        x/=2\n",
    "    else :\n",
    "        x-= 1\n",
    "    cnt +=1\n",
    "    print(x,cnt)\n",
    "\n",
    "\n"
   ]
  },
  {
   "cell_type": "code",
   "execution_count": 3,
   "metadata": {},
   "outputs": [
    {
     "name": "stdout",
     "output_type": "stream",
     "text": [
      "3\n"
     ]
    }
   ],
   "source": [
    "x = int(input())\n",
    "\n",
    "d = [0]*30001\n",
    "\n",
    "for i in range(2,x+1):\n",
    "    d[i] = d[i-1]+1\n",
    "\n",
    "    if i%2 ==0:\n",
    "        d[i] = min(d[i],d[i//2]+1)\n",
    "    if i%3 ==0:\n",
    "        d[i] = min(d[i],d[i//3]+1)\n",
    "    if i%5 ==0:\n",
    "        d[i] = min(d[i],d[i//5]+1)\n",
    "\n",
    "print(d[x])"
   ]
  },
  {
   "cell_type": "code",
   "execution_count": 7,
   "metadata": {},
   "outputs": [
    {
     "name": "stdout",
     "output_type": "stream",
     "text": [
      "8\n"
     ]
    }
   ],
   "source": [
    "#개미전사\n",
    "\n",
    "n = int(input())\n",
    "\n",
    "array = list(map(int,input().split()))\n",
    "\n",
    "d = [0]*100\n",
    "\n",
    "d[0] =array[0]\n",
    "d[1] = max(array[0],array[1])\n",
    "\n",
    "for i in range(2,n):\n",
    "    d[i] = max(d[i-1],d[i-2]+array[i])\n",
    "\n",
    "print(d[n-1])"
   ]
  },
  {
   "cell_type": "code",
   "execution_count": 8,
   "metadata": {},
   "outputs": [
    {
     "name": "stdout",
     "output_type": "stream",
     "text": [
      "5\n"
     ]
    }
   ],
   "source": [
    "#타일 채우기\n",
    "\n",
    "n = int(input())\n",
    "\n",
    "d= [0]*1001\n",
    "\n",
    "d[1] = 1\n",
    "d[2] = 3\n",
    "\n",
    "for i in range(3,n+1):\n",
    "    d[i] = (d[i-1]+d[i-2]*2)%796796\n",
    "\n",
    "print(d[n])\n",
    "\n",
    "\n"
   ]
  },
  {
   "cell_type": "code",
   "execution_count": 9,
   "metadata": {},
   "outputs": [
    {
     "name": "stdout",
     "output_type": "stream",
     "text": [
      "5\n"
     ]
    }
   ],
   "source": [
    "#효율적인 화폐구성\n",
    "\n",
    "n,m = map(int,input().split())\n",
    "\n",
    "array = []\n",
    "\n",
    "for i in range(n):\n",
    "    array.append(int(input()))\n",
    "\n",
    "d = [10001]*(m+1)\n",
    "\n",
    "d[0] = 0\n",
    "for i in range(n):\n",
    "    for j in range(array[i],m+1):\n",
    "        if d[j-array[i]] != 10001:\n",
    "            d[j]=min(d[j],d[j-array[i]]+1)\n",
    "    \n",
    "if d[m] == 10001:\n",
    "    print(-1)\n",
    "else :print(d[m])\n"
   ]
  }
 ],
 "metadata": {
  "kernelspec": {
   "display_name": "Python 3",
   "language": "python",
   "name": "python3"
  },
  "language_info": {
   "codemirror_mode": {
    "name": "ipython",
    "version": 3
   },
   "file_extension": ".py",
   "mimetype": "text/x-python",
   "name": "python",
   "nbconvert_exporter": "python",
   "pygments_lexer": "ipython3",
   "version": "3.10.2"
  }
 },
 "nbformat": 4,
 "nbformat_minor": 2
}
