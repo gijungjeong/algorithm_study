{
 "cells": [
  {
   "cell_type": "code",
   "execution_count": 3,
   "metadata": {},
   "outputs": [
    {
     "name": "stdout",
     "output_type": "stream",
     "text": [
      "30\n"
     ]
    }
   ],
   "source": [
    "#32 정수 삼각형\n",
    "# 다이나믹 프로그래밍\n",
    "\n",
    "n = int(input())\n",
    "tree = []\n",
    "\n",
    "for i in range(n):\n",
    "    tree.append(list(map(int, input().split())))\n",
    "\n",
    "\n",
    "for i in range(1,n):\n",
    "    for j in range(len(tree[i])):\n",
    "        if j == 0 :\n",
    "            tree[i][j] += tree[i-1][j]\n",
    "        elif j == len(tree[i])-1 :\n",
    "            tree[i][j] += tree[i-1][j-1]\n",
    "        else :\n",
    "            tree[i][j] += max(tree[i-1][j-1],tree[i-1][j])\n",
    "result = max(tree[n-1])\n",
    "print(result)"
   ]
  },
  {
   "cell_type": "code",
   "execution_count": 5,
   "metadata": {},
   "outputs": [
    {
     "name": "stdout",
     "output_type": "stream",
     "text": [
      "19\n",
      "16\n"
     ]
    }
   ],
   "source": [
    "for tc in range(int(input())):\n",
    "    n, m = map(int, input().split())\n",
    "    array = list(map(int, input().split()))\n",
    "\n",
    "    dp = []\n",
    "    index =0\n",
    "    for i in range(n):\n",
    "        dp.append(array[index : index +m])\n",
    "        index += m\n",
    "    \n",
    "    for j in range(1,m):\n",
    "        for i in range(n):\n",
    "            if i == 0:\n",
    "                left_up = 0\n",
    "            else : left_up = dp[i-1][j-1]\n",
    "\n",
    "            if i == n-1 :\n",
    "                left_down = 0\n",
    "            else : left_down = dp[i+1][j-1]\n",
    "\n",
    "            left = dp[i][j-1]\n",
    "            dp[i][j] += max(left_up, left_down, left)\n",
    "\n",
    "    result = 0\n",
    "    for i in range(n):\n",
    "        result = max(result,dp[i][m-1])\n",
    "\n",
    "    print(result)\n",
    "    \n"
   ]
  },
  {
   "cell_type": "markdown",
   "metadata": {},
   "source": []
  }
 ],
 "metadata": {
  "language_info": {
   "name": "python"
  }
 },
 "nbformat": 4,
 "nbformat_minor": 2
}
